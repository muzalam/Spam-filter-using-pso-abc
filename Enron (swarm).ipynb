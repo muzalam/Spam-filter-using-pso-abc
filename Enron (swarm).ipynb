{
 "cells": [
  {
   "cell_type": "markdown",
   "metadata": {},
   "source": [
    "## Loading Datsets"
   ]
  },
  {
   "cell_type": "code",
   "execution_count": 1,
   "metadata": {},
   "outputs": [],
   "source": [
    "import os\n",
    "from nltk import word_tokenize\n",
    "import pandas as pd\n",
    "import numpy as np"
   ]
  },
  {
   "cell_type": "code",
   "execution_count": 2,
   "metadata": {},
   "outputs": [
    {
     "name": "stdout",
     "output_type": "stream",
     "text": [
      "C:\\Users\\tolga\\Desktop\\makina öğrenmesi\\makina öğrenmesi\\ENRON SPAM\\ENRON SPAM\\data ['enron1', 'enron2', 'enron3', 'enron4', 'enron5', 'enron6'] 7\n",
      "C:\\Users\\tolga\\Desktop\\makina öğrenmesi\\makina öğrenmesi\\ENRON SPAM\\ENRON SPAM\\data\\enron1 ['ham', 'spam'] 2\n",
      "C:\\Users\\tolga\\Desktop\\makina öğrenmesi\\makina öğrenmesi\\ENRON SPAM\\ENRON SPAM\\data\\enron1\\ham [] 3672\n",
      "C:\\Users\\tolga\\Desktop\\makina öğrenmesi\\makina öğrenmesi\\ENRON SPAM\\ENRON SPAM\\data\\enron1\\spam [] 1500\n",
      "C:\\Users\\tolga\\Desktop\\makina öğrenmesi\\makina öğrenmesi\\ENRON SPAM\\ENRON SPAM\\data\\enron2 ['ham', 'spam'] 1\n",
      "C:\\Users\\tolga\\Desktop\\makina öğrenmesi\\makina öğrenmesi\\ENRON SPAM\\ENRON SPAM\\data\\enron2\\ham [] 4361\n",
      "C:\\Users\\tolga\\Desktop\\makina öğrenmesi\\makina öğrenmesi\\ENRON SPAM\\ENRON SPAM\\data\\enron2\\spam [] 1496\n",
      "C:\\Users\\tolga\\Desktop\\makina öğrenmesi\\makina öğrenmesi\\ENRON SPAM\\ENRON SPAM\\data\\enron3 ['ham', 'spam'] 1\n",
      "C:\\Users\\tolga\\Desktop\\makina öğrenmesi\\makina öğrenmesi\\ENRON SPAM\\ENRON SPAM\\data\\enron3\\ham [] 4012\n",
      "C:\\Users\\tolga\\Desktop\\makina öğrenmesi\\makina öğrenmesi\\ENRON SPAM\\ENRON SPAM\\data\\enron3\\spam [] 1500\n",
      "C:\\Users\\tolga\\Desktop\\makina öğrenmesi\\makina öğrenmesi\\ENRON SPAM\\ENRON SPAM\\data\\enron4 ['ham', 'spam'] 1\n",
      "C:\\Users\\tolga\\Desktop\\makina öğrenmesi\\makina öğrenmesi\\ENRON SPAM\\ENRON SPAM\\data\\enron4\\ham [] 1500\n",
      "C:\\Users\\tolga\\Desktop\\makina öğrenmesi\\makina öğrenmesi\\ENRON SPAM\\ENRON SPAM\\data\\enron4\\spam [] 4500\n",
      "C:\\Users\\tolga\\Desktop\\makina öğrenmesi\\makina öğrenmesi\\ENRON SPAM\\ENRON SPAM\\data\\enron5 ['ham', 'spam'] 1\n",
      "C:\\Users\\tolga\\Desktop\\makina öğrenmesi\\makina öğrenmesi\\ENRON SPAM\\ENRON SPAM\\data\\enron5\\ham [] 1500\n",
      "C:\\Users\\tolga\\Desktop\\makina öğrenmesi\\makina öğrenmesi\\ENRON SPAM\\ENRON SPAM\\data\\enron5\\spam [] 3675\n",
      "C:\\Users\\tolga\\Desktop\\makina öğrenmesi\\makina öğrenmesi\\ENRON SPAM\\ENRON SPAM\\data\\enron6 ['ham', 'spam'] 1\n",
      "C:\\Users\\tolga\\Desktop\\makina öğrenmesi\\makina öğrenmesi\\ENRON SPAM\\ENRON SPAM\\data\\enron6\\ham [] 1500\n",
      "C:\\Users\\tolga\\Desktop\\makina öğrenmesi\\makina öğrenmesi\\ENRON SPAM\\ENRON SPAM\\data\\enron6\\spam [] 4500\n"
     ]
    }
   ],
   "source": [
    "# OS library walk function iterates directories \n",
    "rootdir = r\" FILL DATA DIRECTORY \"\n",
    "\n",
    "for directories, subdirs, files in os.walk(rootdir):\n",
    "    print(directories, subdirs, len(files))"
   ]
  },
  {
   "cell_type": "code",
   "execution_count": 3,
   "metadata": {},
   "outputs": [
    {
     "data": {
      "text/html": [
       "<div>\n",
       "<style scoped>\n",
       "    .dataframe tbody tr th:only-of-type {\n",
       "        vertical-align: middle;\n",
       "    }\n",
       "\n",
       "    .dataframe tbody tr th {\n",
       "        vertical-align: top;\n",
       "    }\n",
       "\n",
       "    .dataframe thead th {\n",
       "        text-align: right;\n",
       "    }\n",
       "</style>\n",
       "<table border=\"1\" class=\"dataframe\">\n",
       "  <thead>\n",
       "    <tr style=\"text-align: right;\">\n",
       "      <th></th>\n",
       "      <th>Spam</th>\n",
       "      <th>Email</th>\n",
       "    </tr>\n",
       "  </thead>\n",
       "  <tbody>\n",
       "    <tr>\n",
       "      <th>0</th>\n",
       "      <td>0</td>\n",
       "      <td>Subject: christmas tree farm pictures\\n</td>\n",
       "    </tr>\n",
       "    <tr>\n",
       "      <th>1</th>\n",
       "      <td>0</td>\n",
       "      <td>Subject: vastar resources , inc .\\ngary , prod...</td>\n",
       "    </tr>\n",
       "    <tr>\n",
       "      <th>2</th>\n",
       "      <td>0</td>\n",
       "      <td>Subject: calpine daily gas nomination\\n- calpi...</td>\n",
       "    </tr>\n",
       "    <tr>\n",
       "      <th>3</th>\n",
       "      <td>0</td>\n",
       "      <td>Subject: re : issue\\nfyi - see note below - al...</td>\n",
       "    </tr>\n",
       "    <tr>\n",
       "      <th>4</th>\n",
       "      <td>0</td>\n",
       "      <td>Subject: meter 7268 nov allocation\\nfyi .\\n- -...</td>\n",
       "    </tr>\n",
       "    <tr>\n",
       "      <th>5</th>\n",
       "      <td>0</td>\n",
       "      <td>Subject: mcmullen gas for 11 / 99\\njackie ,\\ns...</td>\n",
       "    </tr>\n",
       "    <tr>\n",
       "      <th>6</th>\n",
       "      <td>0</td>\n",
       "      <td>Subject: meter 1517 - jan 1999\\ngeorge ,\\ni ne...</td>\n",
       "    </tr>\n",
       "    <tr>\n",
       "      <th>7</th>\n",
       "      <td>0</td>\n",
       "      <td>Subject: duns number changes\\nfyi\\n- - - - - -...</td>\n",
       "    </tr>\n",
       "    <tr>\n",
       "      <th>8</th>\n",
       "      <td>0</td>\n",
       "      <td>Subject: king ranch\\nthere are two fields of g...</td>\n",
       "    </tr>\n",
       "    <tr>\n",
       "      <th>9</th>\n",
       "      <td>0</td>\n",
       "      <td>Subject: re : entex transistion\\nthanks so muc...</td>\n",
       "    </tr>\n",
       "  </tbody>\n",
       "</table>\n",
       "</div>"
      ],
      "text/plain": [
       "   Spam                                              Email\n",
       "0     0            Subject: christmas tree farm pictures\\n\n",
       "1     0  Subject: vastar resources , inc .\\ngary , prod...\n",
       "2     0  Subject: calpine daily gas nomination\\n- calpi...\n",
       "3     0  Subject: re : issue\\nfyi - see note below - al...\n",
       "4     0  Subject: meter 7268 nov allocation\\nfyi .\\n- -...\n",
       "5     0  Subject: mcmullen gas for 11 / 99\\njackie ,\\ns...\n",
       "6     0  Subject: meter 1517 - jan 1999\\ngeorge ,\\ni ne...\n",
       "7     0  Subject: duns number changes\\nfyi\\n- - - - - -...\n",
       "8     0  Subject: king ranch\\nthere are two fields of g...\n",
       "9     0  Subject: re : entex transistion\\nthanks so muc..."
      ]
     },
     "execution_count": 3,
     "metadata": {},
     "output_type": "execute_result"
    }
   ],
   "source": [
    "ham_list = [] # empty ham list\n",
    "spam_list = [] # empty spam list\n",
    "\n",
    "for directories, subdirs, files in os.walk(rootdir):\n",
    "    if (os.path.split(directories)[1]  == 'ham'):\n",
    "        for filename in files:      \n",
    "            # Opening ham folders and appending ham emails from the folder into the ham_list\n",
    "            with open(os.path.join(directories, filename), encoding=\"latin-1\") as f:\n",
    "                text = f.read()\n",
    "                ham_list.append(text)\n",
    "\n",
    "    if (os.path.split(directories)[1]  == 'spam'):\n",
    "       for filename in files:      \n",
    "            # Opening spam folders and appending spam emails from the folder into the spam_list\n",
    "            with open(os.path.join(directories, filename), encoding=\"latin-1\") as f:\n",
    "                text = f.read()\n",
    "                spam_list.append(text)\n",
    "\n",
    "spam_ones = [1] * len(spam_list); # making empty list of ones\n",
    "ham_zeros = [0] * len(ham_list); # making empty list of zeros\n",
    "\n",
    "# Creating dataframe using pandas, dataframe has the email content and 1 in spam column if email is spam or zero if not spam\n",
    "dfSpam = pd.DataFrame(\n",
    "    {'Spam': spam_ones,\n",
    "    'Email': spam_list\n",
    "    })\n",
    "dfHam = pd.DataFrame(\n",
    "    {'Spam': ham_zeros,\n",
    "    'Email': ham_list\n",
    "    })\n",
    "\n",
    "dfTotal = pd.concat([dfHam, dfSpam])\n",
    "dfTotal.head(10)"
   ]
  },
  {
   "cell_type": "code",
   "execution_count": 4,
   "metadata": {},
   "outputs": [
    {
     "data": {
      "text/html": [
       "<div>\n",
       "<style scoped>\n",
       "    .dataframe tbody tr th:only-of-type {\n",
       "        vertical-align: middle;\n",
       "    }\n",
       "\n",
       "    .dataframe tbody tr th {\n",
       "        vertical-align: top;\n",
       "    }\n",
       "\n",
       "    .dataframe thead th {\n",
       "        text-align: right;\n",
       "    }\n",
       "</style>\n",
       "<table border=\"1\" class=\"dataframe\">\n",
       "  <thead>\n",
       "    <tr style=\"text-align: right;\">\n",
       "      <th></th>\n",
       "      <th>Spam</th>\n",
       "      <th>Email</th>\n",
       "    </tr>\n",
       "  </thead>\n",
       "  <tbody>\n",
       "    <tr>\n",
       "      <th>0</th>\n",
       "      <td>0</td>\n",
       "      <td>Subject: gmt . inc .\\ntom ,\\nplease create a s...</td>\n",
       "    </tr>\n",
       "    <tr>\n",
       "      <th>1</th>\n",
       "      <td>1</td>\n",
       "      <td>Subject: what car will you buy bait - excelled...</td>\n",
       "    </tr>\n",
       "    <tr>\n",
       "      <th>2</th>\n",
       "      <td>0</td>\n",
       "      <td>Subject: ferc orders on ca and rto west\\n- - -...</td>\n",
       "    </tr>\n",
       "    <tr>\n",
       "      <th>3</th>\n",
       "      <td>0</td>\n",
       "      <td>Subject: reviews\\nheather will be calling each...</td>\n",
       "    </tr>\n",
       "    <tr>\n",
       "      <th>4</th>\n",
       "      <td>1</td>\n",
       "      <td>Subject: sshs . . get low cost software cds or...</td>\n",
       "    </tr>\n",
       "    <tr>\n",
       "      <th>5</th>\n",
       "      <td>1</td>\n",
       "      <td>Subject: our pro - forma invoice attached\\nund...</td>\n",
       "    </tr>\n",
       "    <tr>\n",
       "      <th>6</th>\n",
       "      <td>1</td>\n",
       "      <td>Subject: top - quality prescripiton drvgs\\nred...</td>\n",
       "    </tr>\n",
       "    <tr>\n",
       "      <th>7</th>\n",
       "      <td>1</td>\n",
       "      <td>Subject: re : paliourg home info you requested...</td>\n",
       "    </tr>\n",
       "    <tr>\n",
       "      <th>8</th>\n",
       "      <td>0</td>\n",
       "      <td>Subject: start date : and / and / and ; hourah...</td>\n",
       "    </tr>\n",
       "    <tr>\n",
       "      <th>9</th>\n",
       "      <td>1</td>\n",
       "      <td>Subject: award notification ( file for claim )...</td>\n",
       "    </tr>\n",
       "  </tbody>\n",
       "</table>\n",
       "</div>"
      ],
      "text/plain": [
       "   Spam                                              Email\n",
       "0     0  Subject: gmt . inc .\\ntom ,\\nplease create a s...\n",
       "1     1  Subject: what car will you buy bait - excelled...\n",
       "2     0  Subject: ferc orders on ca and rto west\\n- - -...\n",
       "3     0  Subject: reviews\\nheather will be calling each...\n",
       "4     1  Subject: sshs . . get low cost software cds or...\n",
       "5     1  Subject: our pro - forma invoice attached\\nund...\n",
       "6     1  Subject: top - quality prescripiton drvgs\\nred...\n",
       "7     1  Subject: re : paliourg home info you requested...\n",
       "8     0  Subject: start date : and / and / and ; hourah...\n",
       "9     1  Subject: award notification ( file for claim )..."
      ]
     },
     "execution_count": 4,
     "metadata": {},
     "output_type": "execute_result"
    }
   ],
   "source": [
    "# Randomizing dataframe so classifier is not biased, Resetting indexes for the dataframe, replacing number occurences \n",
    "from sklearn.utils import shuffle\n",
    "\n",
    "dfTotal = shuffle(dfTotal,random_state=0)\n",
    "dfTotal = dfTotal.reset_index(drop=True);\n",
    "dfTotal = dfTotal.replace('\\d+', 'and', regex=True)\n",
    "dfTotal.head(10)"
   ]
  },
  {
   "cell_type": "markdown",
   "metadata": {},
   "source": [
    "## Training test split"
   ]
  },
  {
   "cell_type": "code",
   "execution_count": 5,
   "metadata": {},
   "outputs": [],
   "source": [
    "# dividing dataset into training and testing split\n",
    "\n",
    "from sklearn.model_selection import train_test_split\n",
    "\n",
    "# split 70% train, 30% test\n",
    "\n",
    "email_train,email_test,spam_train,spam_test = train_test_split(dfTotal.Email,dfTotal.Spam,test_size=0.3,random_state=0)\n",
    "\n",
    "# 70% * 1/3.5 = 20% #validation split \n",
    "#email_train,email_val,spam_train,spam_val = train_test_split(email_tv,spam_tv,test_size=(1/3.5),random_state=0)"
   ]
  },
  {
   "cell_type": "code",
   "execution_count": 6,
   "metadata": {},
   "outputs": [
    {
     "data": {
      "text/plain": [
       "3309     Subject: brand name and generic pills\\ndiphtho...\n",
       "772      Subject: sennse\\nhow to save on your medlcatio...\n",
       "11994    Subject: looking for cheap high - quality soft...\n",
       "323      Subject: ! click here ! how to legally access ...\n",
       "29489    Subject: re : rotational opportunities within ...\n",
       "27816    Subject: let us fill your p [ rescriptions ! t...\n",
       "9403     Subject: localized software , all languages av...\n",
       "798      Subject: re : one more thing\\nclayton ,\\ni agr...\n",
       "24661    Subject: weekly deal report\\nattched is the we...\n",
       "1295     Subject: talebearer symanntec , pc games , mac...\n",
       "Name: Email, dtype: object"
      ]
     },
     "execution_count": 6,
     "metadata": {},
     "output_type": "execute_result"
    }
   ],
   "source": [
    "email_train.head(10)"
   ]
  },
  {
   "cell_type": "code",
   "execution_count": 7,
   "metadata": {},
   "outputs": [
    {
     "data": {
      "text/plain": [
       "169      Subject: seven day cruise for two with any clo...\n",
       "33147    Subject: re : pserc industrial advisory board ...\n",
       "8603     Subject: re : wip report for week and / and / ...\n",
       "2481     Subject: houston visit and baby pictures\\nsall...\n",
       "28064    Subject: re : confusion around treasury workst...\n",
       "19849    Subject: dinner for summer interns\\nvince ,\\nt...\n",
       "20220    Subject: meter and , and / and\\ndaren - i need...\n",
       "22441    Subject: tw current rate matrix\\nthought you c...\n",
       "13215    Subject: moving forward\\nhi there -\\nhope you ...\n",
       "20009    Subject: vehicle accidents - alert\\nas you kno...\n",
       "Name: Email, dtype: object"
      ]
     },
     "execution_count": 7,
     "metadata": {},
     "output_type": "execute_result"
    }
   ],
   "source": [
    "email_test.head(10)"
   ]
  },
  {
   "cell_type": "code",
   "execution_count": 8,
   "metadata": {},
   "outputs": [],
   "source": [
    "#bag of words on training set for both spam & ham\n",
    "from sklearn.feature_extraction.text import CountVectorizer\n",
    "from sklearn.feature_extraction import text \n",
    "\n",
    "# add additional email stop words\n",
    "email_stop_words = ['subject','cc']\n",
    "stop_words = text.ENGLISH_STOP_WORDS.union(email_stop_words)\n",
    "\n",
    "cv = CountVectorizer(analyzer='word',stop_words=stop_words, min_df = 2, max_df = 1.0);\n",
    "\n",
    "email_train_dtm = cv.fit_transform(email_train)"
   ]
  },
  {
   "cell_type": "code",
   "execution_count": 9,
   "metadata": {},
   "outputs": [],
   "source": [
    "# Converting countVectorizer Dataframe to TF-IDF object\n",
    "\n",
    "from sklearn.feature_extraction.text import TfidfTransformer\n",
    "tf = TfidfTransformer()\n",
    "email_train_tf = tf.fit_transform(email_train_dtm)"
   ]
  },
  {
   "cell_type": "code",
   "execution_count": 10,
   "metadata": {},
   "outputs": [
    {
     "data": {
      "text/plain": [
       "<23601x63313 sparse matrix of type '<class 'numpy.float64'>'\n",
       "\twith 1880747 stored elements in Compressed Sparse Row format>"
      ]
     },
     "execution_count": 10,
     "metadata": {},
     "output_type": "execute_result"
    }
   ],
   "source": [
    "email_train_tf"
   ]
  },
  {
   "cell_type": "markdown",
   "metadata": {},
   "source": [
    "## Exploratory analysis on the data"
   ]
  },
  {
   "cell_type": "markdown",
   "metadata": {},
   "source": [
    "totalSpam = dfTotal.loc[dfTotal.Spam == 1]\n",
    "totalHam = dfTotal.loc[dfTotal.Spam == 0]\n",
    "\n",
    "trainingSpam = email_train.loc[spam_train.values == 1]\n",
    "trainingHam = email_train.loc[spam_train.values == 0]\n",
    "\n",
    "valSpam = email_val.loc[spam_val.values == 1]\n",
    "valHam = email_val.loc[spam_val.values == 0]\n",
    "\n",
    "testSpam = email_test.loc[spam_test.values == 1]\n",
    "testHam = email_test.loc[spam_test.values == 0]\n",
    "\n",
    "print(\"There are \"+ str(len(totalSpam))+\" total spam emails.\");\n",
    "print(\"There are \"+ str(len(totalHam))+\" total ham emails.\");\n",
    "print(\"There are \"+ str(len(trainingSpam))+\" training spam emails.\");\n",
    "print(\"There are \"+ str(len(trainingHam))+\" training ham emails.\");\n",
    "print(\"There are \"+ str(len(valSpam))+\" validation spam emails.\");\n",
    "print(\"There are \"+ str(len(valHam))+\" validation ham emails.\");\n",
    "print(\"There are \"+ str(len(testSpam))+\" test spam emails.\");\n",
    "print(\"There are \"+ str(len(testHam))+\" test ham emails.\");"
   ]
  },
  {
   "cell_type": "markdown",
   "metadata": {},
   "source": [
    "# Seperate Bag of words instances in files as rows, with words as columns\n",
    "cv_spam = CountVectorizer(analyzer='word',stop_words=stop_words, min_df = 2, max_df = 1.0);\n",
    "cv_ham = CountVectorizer(analyzer='word',stop_words=stop_words, min_df = 2, max_df = 1.0);\n",
    "\n",
    "fit_spam = cv_spam.fit(trainingSpam)\n",
    "fit_ham = cv_ham.fit(trainingHam)\n",
    "\n",
    "train_spam = cv_spam.transform(trainingSpam)\n",
    "train_ham = cv_ham.transform(trainingHam)\n",
    "\n",
    "# Relative frequency of words, pandas series\n",
    "pdSpam = pd.DataFrame(train_spam.toarray(),columns=fit_spam.get_feature_names())\n",
    "pdHam = pd.DataFrame(train_ham.toarray(),columns=fit_ham.get_feature_names())\n",
    "\n",
    "pdSpam = pdSpam.mean()\n",
    "pdHam = pdHam.mean()\n",
    "\n",
    "# Convert from series to data frame\n",
    "pdSpam = pd.DataFrame({'Word':pdSpam.index, 'Frequency':pdSpam.values})\n",
    "pdHam =  pd.DataFrame({'Word':pdHam.index,  'Frequency':pdHam.values})"
   ]
  },
  {
   "cell_type": "markdown",
   "metadata": {},
   "source": [
    "pdHam = pdHam.sort_values('Frequency',ascending=0) #sort desceding\n",
    "pdSpam = pdSpam.sort_values('Frequency',ascending=0) #sort desceding\n",
    "\n",
    "HamTop30 = pdHam.iloc[:30]\n",
    "SpamTop30 = pdSpam.iloc[:30]\n",
    "print(\"\\nTop 30 Spam Words:\\n\", SpamTop30)\n",
    "print(\"\\nTop 30 Ham Words:\\n\", HamTop30)"
   ]
  },
  {
   "cell_type": "markdown",
   "metadata": {},
   "source": [
    "# select frequency of individual words\n",
    "selector = (pdHam.Word == 'fraud')\n",
    "print(pdHam.Frequency[selector])\n"
   ]
  },
  {
   "cell_type": "markdown",
   "metadata": {},
   "source": [
    " print(\"\\nSpam\\n\",trainingSpam.str.len().describe())\n",
    "print(\"\\n\\nHam\\n\",trainingHam.str.len().describe())"
   ]
  },
  {
   "cell_type": "markdown",
   "metadata": {},
   "source": [
    "import seaborn as sns\n",
    "\n",
    "sns.barplot(x='Word',y='Frequency',data=SpamTop30[:5]).set_title('Spam Top 5')"
   ]
  },
  {
   "cell_type": "markdown",
   "metadata": {},
   "source": [
    "sns.barplot(x='Word',y='Frequency',data=HamTop30[:5]).set_title('Ham Top 5')"
   ]
  },
  {
   "cell_type": "markdown",
   "metadata": {},
   "source": [
    "EmailLen = email_train.str.len()\n",
    "index = EmailLen.index\n",
    "DFEmailLen = pd.DataFrame({'Length':EmailLen.values, 'Spam':spam_train.values}, index=index)\n",
    "EmailLen = pd.concat([email_train,DFEmailLen], axis=1)\n",
    "EmailLen.tail(10)"
   ]
  },
  {
   "cell_type": "markdown",
   "metadata": {},
   "source": [
    "sns.boxplot(x='Spam',y='Length',data=EmailLen)"
   ]
  },
  {
   "cell_type": "markdown",
   "metadata": {},
   "source": [
    "import matplotlib.pyplot as plt\n",
    "plt.ylim(0, 4000)\n",
    "sns.boxplot(x='Spam',y='Length',data=EmailLen)"
   ]
  },
  {
   "cell_type": "markdown",
   "metadata": {},
   "source": [
    "### Initial classfiers"
   ]
  },
  {
   "cell_type": "code",
   "execution_count": 11,
   "metadata": {},
   "outputs": [
    {
     "data": {
      "text/plain": [
       "<10115x63313 sparse matrix of type '<class 'numpy.float64'>'\n",
       "\twith 779918 stored elements in Compressed Sparse Row format>"
      ]
     },
     "execution_count": 11,
     "metadata": {},
     "output_type": "execute_result"
    }
   ],
   "source": [
    "# dtm/BOW setup for \n",
    "email_test_dtm = cv.transform(email_test)\n",
    "# convert to TFIDF form\n",
    "email_test_tf = tf.fit_transform(email_test_dtm)\n",
    "email_test_tf"
   ]
  },
  {
   "cell_type": "markdown",
   "metadata": {},
   "source": [
    "## ABC (Artifical Bee Colony) Optimizer"
   ]
  },
  {
   "cell_type": "code",
   "execution_count": 22,
   "metadata": {},
   "outputs": [],
   "source": [
    "from Hive import Hive\n",
    "from Hive import Utilities\n",
    "from sklearn.metrics import log_loss\n",
    "\n",
    "\"\"\"\n",
    "Needs an evaluator function for every model we are going to use.\n",
    "Evaluator function should return a value based on the parameters given\n",
    "and the optimizer will try to minimize this value by changing parameter values\n",
    "between the boundaries defined.\n",
    "\n",
    "\"\"\"\n",
    "\n",
    "# ---- SOLVE TEST CASE WITH ARTIFICIAL BEE COLONY ALGORITHM\n",
    "\n",
    "def run(lowBounds,upBounds,evaluator):\n",
    "    \"\"\"\n",
    "    lower = Lower boundary value for a param\n",
    "    upper = Upper boundary value for a param\n",
    "    fun = evaluator function that optimizer will find the minimum of between out boundaries.\n",
    "    numb_bees = Number of units in search space. (More units -> Longer it takes)\n",
    "    max_itrs = Maximum number of iterations to find the best solution.\n",
    "    \"\"\"\n",
    "    model = Hive.BeeHive(lower = lowBounds, # MUST BE A LIST !\n",
    "                         upper = upBounds , # MUST BE A LIST ! \n",
    "                         fun       = evaluator ,\n",
    "                         numb_bees =  100       ,\n",
    "                         max_itrs  =  2       ,)\n",
    "\n",
    "    # runs model\n",
    "    cost,sol = model.run()\n",
    "\n",
    "    # plots convergence\n",
    "    Utilities.ConvergencePlot(cost)\n",
    "\n",
    "    # prints out best solution\n",
    "    print(\"Fitness Value ABC: {0}\".format(model.best))\n",
    "    ABC_model = MultinomialNB(alpha=10**sol[0]).fit(email_train_tf,spam_train) # Create the optimized model with best parameter\n",
    "    result = ABC_model.predict(email_test_tf) # predict with the ABC_model\n",
    "    return sol,result\n"
   ]
  },
  {
   "cell_type": "markdown",
   "metadata": {},
   "source": [
    "## Optunity"
   ]
  },
  {
   "cell_type": "code",
   "execution_count": 16,
   "metadata": {},
   "outputs": [
    {
     "data": {
      "text/plain": [
       "'\\nSee the documentation for more info : https://optunity.readthedocs.io/en/latest/\\n'"
      ]
     },
     "execution_count": 16,
     "metadata": {},
     "output_type": "execute_result"
    }
   ],
   "source": [
    "import optunity\n",
    "import optunity.metrics\n",
    "\n",
    "\"\"\"\n",
    "See the documentation for more info : https://optunity.readthedocs.io/en/latest/\n",
    "\"\"\""
   ]
  },
  {
   "cell_type": "markdown",
   "metadata": {},
   "source": [
    "### Naive Bayes"
   ]
  },
  {
   "cell_type": "code",
   "execution_count": 4,
   "metadata": {},
   "outputs": [
    {
     "data": {
      "text/plain": [
       "{'alpha': 1.0, 'class_prior': None, 'fit_prior': True}"
      ]
     },
     "execution_count": 4,
     "metadata": {},
     "output_type": "execute_result"
    }
   ],
   "source": [
    "from sklearn.naive_bayes import MultinomialNB\n",
    "\n",
    "nb = MultinomialNB()\n",
    "nb.get_params()\n",
    "# fit tf-idf representation to NB model\n",
    "#nb.fit(email_train_tf, spam_train)\n",
    "\n",
    "# class predictions for testing set\n",
    "#result1 = nb.predict(email_test_tf)\n"
   ]
  },
  {
   "cell_type": "code",
   "execution_count": 23,
   "metadata": {},
   "outputs": [
    {
     "data": {
      "image/png": "[encoded data removed]",
      "text/plain": [
       "<Figure size 900x288 with 1 Axes>"
      ]
     },
     "metadata": {
      "needs_background": "light"
     },
     "output_type": "display_data"
    },
    {
     "name": "stdout",
     "output_type": "stream",
     "text": [
      "Fitness Value ABC: 0.03250306724051089\n"
     ]
    }
   ],
   "source": [
    "def evaluator(params):\n",
    "    \"\"\"\n",
    "    Parameters of this function can be made as many as we want. Just be careful to \n",
    "    set parameters in order with respect to boundaries you defined at initialization.\n",
    "    \"\"\"\n",
    "    nBayes = MultinomialNB(alpha=10**params[0]).fit(email_train_tf,spam_train)\n",
    "    \n",
    "    \"\"\"\n",
    "    Using accuracy as the value to be minimized. Delete the hashtags to use it.\n",
    "    See https://scikit-learn.org/stable/modules/classes.html#module-sklearn.metrics \n",
    "    for more loss functions.\n",
    "    \"\"\"\n",
    "    #score = nBayes.score(email_test_tf,spam_test)\n",
    "    #return (1-score)\n",
    "    \"\"\"\n",
    "    Using log_loss as the value to be minimized.\n",
    "    \"\"\"\n",
    "    pred_proba = nBayes.predict_proba(email_test_tf)\n",
    "    return log_loss(spam_test,pred_proba)\n",
    "    \n",
    "\n",
    "sol,result3 = run([-2],[1],evaluator)"
   ]
  },
  {
   "cell_type": "code",
   "execution_count": 25,
   "metadata": {},
   "outputs": [],
   "source": [
    "@optunity.cross_validated(x=email_train_tf, y=spam_train.values, num_folds=5, num_iter=2)\n",
    "def nb_auc(x_train, y_train, x_test, y_test, logA):\n",
    "    \"\"\"\n",
    "    Sample function for optunity to minimize using PSO.\n",
    "    We are using optunity's roc_auc function to get a value to minimize.\n",
    "    \"\"\"\n",
    "    model = MultinomialNB(alpha=10 ** logA).fit(x_train, y_train) \n",
    "    pred = model.predict(x_test)\n",
    "    return optunity.metrics.roc_auc(y_test, pred)\n",
    "\n",
    "# perform tuning\n",
    "hps, _, _ = optunity.maximize(nb_auc, num_evals=10, logA=[-2, -1])\n",
    "\n",
    "# train model on the full training set with tuned hyperparameters\n",
    "optimal_model = MultinomialNB(alpha=10**hps['logA']).fit(email_train_tf, spam_train)\n",
    "\n",
    "result2 = optimal_model.predict(email_test_tf)"
   ]
  },
  {
   "cell_type": "code",
   "execution_count": 26,
   "metadata": {},
   "outputs": [
    {
     "name": "stdout",
     "output_type": "stream",
     "text": [
      "Accuracy on test set:\n",
      "0.9882352941176471\n",
      "Accuracy on test set with PSO:\n",
      "0.9891250617894216\n",
      "Accuracy on test set with ABC:\n",
      "0.9892239248640633\n"
     ]
    },
    {
     "data": {
      "text/plain": [
       "0.043567250849436905"
      ]
     },
     "execution_count": 26,
     "metadata": {},
     "output_type": "execute_result"
    }
   ],
   "source": [
    "from sklearn import metrics\n",
    "\n",
    "print(\"Accuracy on test set:\")\n",
    "print(metrics.accuracy_score(spam_test, result1))\n",
    "print(\"Accuracy on test set with PSO:\")\n",
    "print(metrics.accuracy_score(spam_test, result2))\n",
    "print(\"Accuracy on test set with ABC:\")\n",
    "print(metrics.accuracy_score(spam_test, result3))\n",
    "optimal_model.alpha"
   ]
  },
  {
   "cell_type": "code",
   "execution_count": 14,
   "metadata": {},
   "outputs": [
    {
     "name": "stderr",
     "output_type": "stream",
     "text": [
      "c:\\python\\python36\\lib\\site-packages\\sklearn\\model_selection\\_split.py:2053: FutureWarning: You should specify a value for 'cv' instead of relying on the default value. The default value will change from 3 to 5 in version 0.22.\n",
      "  warnings.warn(CV_WARNING, FutureWarning)\n"
     ]
    },
    {
     "name": "stdout",
     "output_type": "stream",
     "text": [
      " Best score:  0.9886021778738189\n",
      "alpha hyperparameter for best score:  0.023101297000831605\n"
     ]
    }
   ],
   "source": [
    "## Tuned NB\n",
    "from sklearn.model_selection import GridSearchCV\n",
    "\n",
    "param_grid = {'alpha': np.logspace(-2, 2, 100) }\n",
    "clf = GridSearchCV(MultinomialNB(), param_grid)\n",
    "clf.fit(email_train_tf, spam_train)\n",
    "best_alpha = clf.best_estimator_.alpha\n",
    "print(\" Best score: \", clf.best_score_ )\n",
    "print(\"alpha hyperparameter for best score: \", best_alpha)"
   ]
  },
  {
   "cell_type": "code",
   "execution_count": 15,
   "metadata": {},
   "outputs": [],
   "source": [
    "TunedNB = MultinomialNB(alpha = 0.008111308307896872)"
   ]
  },
  {
   "cell_type": "code",
   "execution_count": 16,
   "metadata": {},
   "outputs": [
    {
     "data": {
      "text/plain": [
       "MultinomialNB(alpha=0.008111308307896872, class_prior=None, fit_prior=True)"
      ]
     },
     "execution_count": 16,
     "metadata": {},
     "output_type": "execute_result"
    }
   ],
   "source": [
    "TunedNB.fit(email_train_tf, spam_train)"
   ]
  },
  {
   "cell_type": "code",
   "execution_count": 17,
   "metadata": {},
   "outputs": [],
   "source": [
    "result1a = TunedNB.predict(email_test_tf)"
   ]
  },
  {
   "cell_type": "code",
   "execution_count": 18,
   "metadata": {
    "scrolled": true
   },
   "outputs": [
    {
     "name": "stdout",
     "output_type": "stream",
     "text": [
      "Accuracy on test set:\n",
      "0.9891250617894216\n"
     ]
    }
   ],
   "source": [
    "from sklearn import metrics\n",
    "\n",
    "print(\"Accuracy on test set:\")\n",
    "print(metrics.accuracy_score(spam_test, result1a))"
   ]
  },
  {
   "cell_type": "markdown",
   "metadata": {},
   "source": [
    "## SVM"
   ]
  },
  {
   "cell_type": "code",
   "execution_count": 20,
   "metadata": {},
   "outputs": [],
   "source": [
    "from sklearn.svm import SVC\n",
    "import optunity\n",
    "import optunity.metrics\n",
    "import sklearn.svm"
   ]
  },
  {
   "cell_type": "code",
   "execution_count": null,
   "metadata": {},
   "outputs": [],
   "source": [
    "\"\"\"\n",
    "Takes too long for SVM to optimize with PSO. Not Recommended.\n",
    "\n",
    "\"\"\"\n",
    "# score function: twice iterated 5-fold cross-validated accuracy\n",
    "@optunity.cross_validated(x=email_train_tf, y=spam_train.values, num_folds=5, num_iter=2)\n",
    "def svm_auc(x_train, y_train, x_test, y_test, logC, logGamma):\n",
    "    model = sklearn.svm.SVC(C=10 ** logC, gamma=10 ** logGamma).fit(x_train, y_train) \n",
    "    decision_values = model.decision_function(x_test) \n",
    "    return optunity.metrics.roc_auc(y_test, decision_values)\n",
    "\n",
    "# perform tuning\n",
    "hps, _, _ = optunity.maximize(svm_auc, num_evals=1, logC=[-1, 2], logGamma=[-1, 1])\n",
    "\n",
    "# train model on the full training set with tuned hyperparameters\n",
    "optimal_model = sklearn.svm.SVC(C=10 ** hps['logC'], gamma=10 ** hps['logGamma']).fit(email_train_tf, spam_train) # setting the optimal model\n",
    "\n",
    "result2 = optimal_model.predict(spam_test)"
   ]
  },
  {
   "cell_type": "code",
   "execution_count": null,
   "metadata": {},
   "outputs": [],
   "source": [
    "from sklearn.svm import SVC\n",
    "\n",
    "clf = SVC(gamma='auto')\n",
    "#fit tf-idf representation to NB model\n",
    "clf.fit(email_train_tf, spam_train)\n",
    "\n",
    "# class predictions for testing set\n",
    "result1 = clf.predict(email_test_tf)\n"
   ]
  },
  {
   "cell_type": "code",
   "execution_count": null,
   "metadata": {},
   "outputs": [],
   "source": [
    "def evaluator(params):\n",
    "    \"\"\"\n",
    "    Parameters of this function can be made as many as we want. Just be careful to \n",
    "    set parameters in order with respect to boundaries you defined at initialization.\n",
    "    \"\"\"\n",
    "    svm = sklearn.svm.SVC(C=10 ** logC, gamma=10 ** logGamma).fit(x_train, y_train)\n",
    "    return svm.score(email_test_tf,spam_test)\n",
    "    \n",
    "\n",
    "sol,result3 = run([-1,-1],[2,1],evaluator)"
   ]
  },
  {
   "cell_type": "code",
   "execution_count": null,
   "metadata": {},
   "outputs": [],
   "source": [
    "from sklearn import metrics\n",
    "\n",
    "print(\"Accuracy on test set:\")\n",
    "print(metrics.accuracy_score(spam_test, result1))\n",
    "print(\"Accuracy on test set with PSO:\")\n",
    "print(metrics.accuracy_score(spam_test, result2))\n",
    "print(\"Accuracy on test set with ABC:\")\n",
    "print(metrics.accuracy_score(spam_test, result3))\n"
   ]
  },
  {
   "cell_type": "markdown",
   "metadata": {},
   "source": [
    "### Logistic regression"
   ]
  },
  {
   "cell_type": "code",
   "execution_count": 38,
   "metadata": {},
   "outputs": [],
   "source": [
    "from sklearn.linear_model import LogisticRegression\n",
    "clf = LogisticRegression()\n",
    "# fit tf-idf representation to NB model\n",
    "clf.fit(email_train_tf, spam_train)\n",
    "\n",
    "# class predictions for testing set\n",
    "result1 = clf.predict(email_test_tf)"
   ]
  },
  {
   "cell_type": "code",
   "execution_count": null,
   "metadata": {},
   "outputs": [],
   "source": [
    "def evaluator(params):\n",
    "    \"\"\"\n",
    "    Parameters of this function can be made as many as we want. Just be careful to \n",
    "    set parameters in order with respect to boundaries you defined at initialization.\n",
    "    \"\"\"\n",
    "    model = LogisticRegression(C=10 ** logC).fit(x_train, y_train)\n",
    "    return svm.score(email_test_tf,spam_test)\n",
    "    \n",
    "\n",
    "sol,result3 = run([-2],[2],evaluator)"
   ]
  },
  {
   "cell_type": "code",
   "execution_count": null,
   "metadata": {},
   "outputs": [],
   "source": [
    "def lr_auc(x_train, y_train, x_test, y_test, logC):\n",
    "    model = LogisticRegression(C=10 ** logC).fit(x_train, y_train) \n",
    "    pred = model.predict(x_test)\n",
    "    return optunity.metrics.roc_auc(y_test, pred) # using roc_auc as the fitness of model, PSO will find the maximum of this func.\n",
    "# perform tuning\n",
    "hps, _, _ = optunity.maximize(lr_auc, num_evals=10, logC=[-2, 2]) # increase num_evals for better optimization\n",
    "\n",
    "# train model on the full training set with tuned hyperparameters\n",
    "optimal_model = LogisticRegression(C=10**hps['logC']).fit(email_train_tf, spam_train)\n",
    "\n",
    "result2 = optimal_model.predict(email_test_tf)"
   ]
  },
  {
   "cell_type": "code",
   "execution_count": 39,
   "metadata": {},
   "outputs": [
    {
     "name": "stdout",
     "output_type": "stream",
     "text": [
      "Accuracy on test set:\n",
      "0.9854671280276817\n",
      "Accuracy on test set:\n",
      "0.9908057340583292\n"
     ]
    },
    {
     "data": {
      "text/plain": [
       "20.90800041278718"
      ]
     },
     "execution_count": 39,
     "metadata": {},
     "output_type": "execute_result"
    }
   ],
   "source": [
    "from sklearn import metrics\n",
    "\n",
    "print(\"Accuracy on test set:\")\n",
    "print(metrics.accuracy_score(spam_test, result1))\n",
    "print(\"Accuracy on test set with PSO:\")\n",
    "print(metrics.accuracy_score(spam_test, result2))\n",
    "print(\"Accuracy on test set with ABC:\")\n",
    "print(metrics.accuracy_score(spam_test, result3))"
   ]
  },
  {
   "cell_type": "markdown",
   "metadata": {},
   "source": [
    "### Random Forest"
   ]
  },
  {
   "cell_type": "code",
   "execution_count": 40,
   "metadata": {},
   "outputs": [
    {
     "name": "stderr",
     "output_type": "stream",
     "text": [
      "c:\\python\\python36\\lib\\site-packages\\sklearn\\ensemble\\forest.py:246: FutureWarning: The default value of n_estimators will change from 10 in version 0.20 to 100 in 0.22.\n",
      "  \"10 in version 0.20 to 100 in 0.22.\", FutureWarning)\n"
     ]
    }
   ],
   "source": [
    "from sklearn.ensemble import RandomForestClassifier\n",
    "clf = RandomForestClassifier()\n",
    "# fit tf-idf representation to NB model\n",
    "clf.fit(email_train_tf, spam_train)\n",
    "\n",
    "# class predictions for testing set\n",
    "result1 = clf.predict(email_test_tf)"
   ]
  },
  {
   "cell_type": "code",
   "execution_count": null,
   "metadata": {},
   "outputs": [],
   "source": [
    "def evaluator(params):\n",
    "    \"\"\"\n",
    "    Parameters of this function can be made as many as we want. Just be careful to \n",
    "    set parameters in order with respect to boundaries you defined at initialization.\n",
    "    \"\"\"\n",
    "    model = RandomForestClassifier(min_weight_fraction_leaf=params[0]).fit(x_train, y_train)\n",
    "    return model.score(email_test_tf,spam_test)\n",
    "    \n",
    "\n",
    "sol,result3 = run([0],[1],evaluator)"
   ]
  },
  {
   "cell_type": "code",
   "execution_count": 58,
   "metadata": {
    "scrolled": true
   },
   "outputs": [],
   "source": [
    "\"\"\"\n",
    "For the optimization of parameters such as n_estimators and max_depth, GridSearchCV function of \n",
    "sklearn should be used because PSO might return float values and it would be unefficient for us \n",
    "to use these float values by converting them to integers. So PSO function below should be implemented\n",
    "on parameters that can take float values.\n",
    "\n",
    "Despite the fact that estimator optimizing takes a lot of time even 1 evaluation of PSO increases\n",
    "the accuracy of model by 1%.\n",
    "\n",
    "Estimator Optimizing:\n",
    "\n",
    "def rf_auc(x_train, y_train, x_test, y_test, nEst):\n",
    "    model = RandomForestClassifier(n_estimators = int(nEst)).fit(x_train, y_train) \n",
    "    pred = model.predict(x_test)\n",
    "    return optunity.metrics.roc_auc(y_test, pred) # using roc_auc as the fitness of model, PSO will find the maximum of this func.\n",
    "# perform tuning\n",
    "hps, _, _ = optunity.maximize(rf_auc, num_evals=1, nEst=[10,200]) # increase num_evals for better optimization\n",
    "\n",
    "# train model on the full training set with tuned hyperparameters\n",
    "optimal_model = RandomForestClassifier(n_estimators=int(hps['nEst'])).fit(email_train_tf, spam_train)\n",
    "\n",
    "\"\"\"\n",
    "\n",
    "def rf_auc(x_train, y_train, x_test, y_test, MWFL):\n",
    "    model = RandomForestClassifier(min_weight_fraction_leaf=MWFL).fit(x_train, y_train)\n",
    "    pred = model.predict(x_test)\n",
    "    return optunity.metrics.roc_auc(y_test, pred) # using roc_auc as the fitness of model, PSO will find the maximum of this func.\n",
    "# perform tuning\n",
    "hps, _, _ = optunity.maximize(rf_auc, num_evals=20, MWFL=[0,1]) # increase num_evals for better optimization\n",
    "\n",
    "# train model on the full training set with tuned hyperparameters\n",
    "optimal_model = RandomForestClassifier(min_weight_fraction_leaf=hps['MWFL']).fit(email_train_tf, spam_train)\n",
    "\n",
    "result2 = optimal_model.predict(email_test_tf)"
   ]
  },
  {
   "cell_type": "code",
   "execution_count": 59,
   "metadata": {},
   "outputs": [
    {
     "name": "stdout",
     "output_type": "stream",
     "text": [
      "Accuracy on test set:\n",
      "0.975976272862086\n",
      "Optimized model's accuracy on test set:\n",
      "0.986950074147306\n"
     ]
    }
   ],
   "source": [
    "from sklearn import metrics\n",
    "\n",
    "print(\"Accuracy on test set:\")\n",
    "print(metrics.accuracy_score(spam_test, result1))\n",
    "print(\"Accuracy on test set with PSO:\")\n",
    "print(metrics.accuracy_score(spam_test, result2))\n",
    "print(\"Accuracy on test set with ABC:\")\n",
    "print(metrics.accuracy_score(spam_test, result3))"
   ]
  },
  {
   "cell_type": "markdown",
   "metadata": {},
   "source": [
    "### K neighbours classifier"
   ]
  },
  {
   "cell_type": "code",
   "execution_count": 49,
   "metadata": {},
   "outputs": [],
   "source": [
    "\"\"\"\n",
    "KNN doesn't have any float taking parameters that evolutionary algorithms\n",
    "might optimize.\n",
    "\"\"\"\n",
    "\n",
    "from sklearn.neighbors import KNeighborsClassifier\n",
    "neigh = KNeighborsClassifier(n_neighbors=3)\n",
    "# fit tf-idf representation to NB model\n",
    "neigh.fit(email_train_tf, spam_train)\n",
    "\n",
    "\n",
    "# class predictions for testing set\n",
    "result1 = neigh.predict(email_test_tf)"
   ]
  },
  {
   "cell_type": "code",
   "execution_count": 50,
   "metadata": {},
   "outputs": [
    {
     "name": "stdout",
     "output_type": "stream",
     "text": [
      "Accuracy on test set:\n",
      "0.9816933638443935\n"
     ]
    }
   ],
   "source": [
    "from sklearn import metrics\n",
    "\n",
    "print(\"Accuracy on test set:\")\n",
    "print(metrics.accuracy_score(spam_test, result1))"
   ]
  },
  {
   "cell_type": "code",
   "execution_count": null,
   "metadata": {},
   "outputs": [],
   "source": []
  }
 ],
 "metadata": {
  "kernelspec": {
   "display_name": "Python 3",
   "language": "python",
   "name": "python3"
  },
  "language_info": {
   "codemirror_mode": {
    "name": "ipython",
    "version": 3
   },
   "file_extension": ".py",
   "mimetype": "text/x-python",
   "name": "python",
   "nbconvert_exporter": "python",
   "pygments_lexer": "ipython3",
   "version": "3.7.1"
  }
 },
 "nbformat": 4,
 "nbformat_minor": 2
}
